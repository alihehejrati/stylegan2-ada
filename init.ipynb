{
  "nbformat": 4,
  "nbformat_minor": 0,
  "metadata": {
    "colab": {
      "name": "Copy of Untitled1.ipynb",
      "provenance": [],
      "collapsed_sections": [],
      "mount_file_id": "1KwBMba4zAbt2Fmb6e842-iDinh-JAvrH",
      "authorship_tag": "ABX9TyOUSnagCnIyl0suiPzjGjF8",
      "include_colab_link": true
    },
    "kernelspec": {
      "name": "python3",
      "display_name": "Python 3"
    },
    "language_info": {
      "name": "python"
    }
  },
  "cells": [
    {
      "cell_type": "markdown",
      "metadata": {
        "id": "view-in-github",
        "colab_type": "text"
      },
      "source": [
        "<a href=\"https://colab.research.google.com/github/alihehejrati/stylegan2-ada/blob/main/init.ipynb\" target=\"_parent\"><img src=\"https://colab.research.google.com/assets/colab-badge.svg\" alt=\"Open In Colab\"/></a>"
      ]
    },
    {
      "cell_type": "code",
      "metadata": {
        "id": "X55QPyYO-bz_"
      },
      "source": [
        "git_url='https://github.com/alihehejrati/stylegan2-ada.git'\n",
        "git_path='/content/drive/MyDrive/code/ADA/'\n",
        "dataset_path='/content/drive/MyDrive/dataset/'\n",
        "dataset_name='retina'\n",
        "format='JPG'\n",
        "size=(512,512)"
      ],
      "execution_count": 18,
      "outputs": []
    },
    {
      "cell_type": "code",
      "metadata": {
        "id": "HnGYzxLRA2gC",
        "colab": {
          "base_uri": "https://localhost:8080/"
        },
        "outputId": "2c9fd82e-051f-46a1-ff59-bd1afdb5142c"
      },
      "source": [
        "from google.colab import drive\n",
        "drive.mount('/content/drive')"
      ],
      "execution_count": 3,
      "outputs": [
        {
          "output_type": "stream",
          "text": [
            "Mounted at /content/drive\n"
          ],
          "name": "stdout"
        }
      ]
    },
    {
      "cell_type": "code",
      "metadata": {
        "id": "rKnpMk8sBu3o",
        "colab": {
          "base_uri": "https://localhost:8080/"
        },
        "outputId": "c039fd5a-04a9-4cf8-f7d5-8b6b8ff50a5e"
      },
      "source": [
        "%cd '/content/drive'"
      ],
      "execution_count": 28,
      "outputs": [
        {
          "output_type": "stream",
          "text": [
            "/content/drive\n"
          ],
          "name": "stdout"
        }
      ]
    },
    {
      "cell_type": "code",
      "metadata": {
        "id": "jV_Qugq2-eIY",
        "colab": {
          "base_uri": "https://localhost:8080/"
        },
        "outputId": "42b13816-4ea8-4de5-9651-91fbe1f4a6cc"
      },
      "source": [
        "!git clone {git_url} {git_path}"
      ],
      "execution_count": 20,
      "outputs": [
        {
          "output_type": "stream",
          "text": [
            "Cloning into '/content/drive/MyDrive/code/ADA'...\n",
            "remote: Enumerating objects: 74, done.\u001b[K\n",
            "remote: Counting objects: 100% (3/3), done.\u001b[K\n",
            "remote: Compressing objects: 100% (3/3), done.\u001b[K\n",
            "remote: Total 74 (delta 0), reused 0 (delta 0), pack-reused 71\u001b[K\n",
            "Unpacking objects: 100% (74/74), done.\n"
          ],
          "name": "stdout"
        }
      ]
    },
    {
      "cell_type": "code",
      "metadata": {
        "id": "Xw-SKycG_ysb",
        "colab": {
          "base_uri": "https://localhost:8080/"
        },
        "outputId": "0f170f3b-b10b-4c2a-c243-2195c1ebb7ac"
      },
      "source": [
        "!unzip {dataset_path+dataset_name+'.zip'} -d {dataset_path+dataset_name}"
      ],
      "execution_count": 9,
      "outputs": [
        {
          "output_type": "stream",
          "text": [
            "Archive:  /content/drive/MyDrive/dataset/retina.zip\n",
            "  inflating: /content/drive/MyDrive/dataset/retina/1_good.JPG  \n",
            "  inflating: /content/drive/MyDrive/dataset/retina/2_good.JPG  \n",
            "  inflating: /content/drive/MyDrive/dataset/retina/3_good.JPG  \n",
            "  inflating: /content/drive/MyDrive/dataset/retina/4_good.JPG  \n",
            "  inflating: /content/drive/MyDrive/dataset/retina/5_good.JPG  \n",
            "  inflating: /content/drive/MyDrive/dataset/retina/6_good.JPG  \n",
            "  inflating: /content/drive/MyDrive/dataset/retina/7_good.JPG  \n",
            "  inflating: /content/drive/MyDrive/dataset/retina/8_good.JPG  \n",
            "  inflating: /content/drive/MyDrive/dataset/retina/9_good.JPG  \n",
            "  inflating: /content/drive/MyDrive/dataset/retina/10_good.JPG  \n",
            "  inflating: /content/drive/MyDrive/dataset/retina/11_good.JPG  \n",
            "  inflating: /content/drive/MyDrive/dataset/retina/12_good.JPG  \n",
            "  inflating: /content/drive/MyDrive/dataset/retina/13_good.JPG  \n",
            "  inflating: /content/drive/MyDrive/dataset/retina/14_good.JPG  \n",
            "  inflating: /content/drive/MyDrive/dataset/retina/15_good.JPG  \n",
            "  inflating: /content/drive/MyDrive/dataset/retina/16_good.JPG  \n",
            "  inflating: /content/drive/MyDrive/dataset/retina/17_good.JPG  \n",
            "  inflating: /content/drive/MyDrive/dataset/retina/18_good.JPG  \n"
          ],
          "name": "stdout"
        }
      ]
    },
    {
      "cell_type": "code",
      "metadata": {
        "id": "mu0Hn5NaIq9S"
      },
      "source": [
        "from PIL import Image\n",
        "import glob\n",
        "for f in glob.glob(dataset_path+dataset_name+'/*.'+format):\n",
        "  Image.open(f).resize(size).save(f)"
      ],
      "execution_count": 14,
      "outputs": []
    },
    {
      "cell_type": "code",
      "metadata": {
        "id": "d6z2lmyWTRav"
      },
      "source": [
        "%tensorflow_version 1.x"
      ],
      "execution_count": 21,
      "outputs": []
    },
    {
      "cell_type": "code",
      "metadata": {
        "colab": {
          "base_uri": "https://localhost:8080/"
        },
        "id": "bj3ncaLEUYXE",
        "outputId": "af55314e-f69f-450c-e056-73d8f31909aa"
      },
      "source": [
        "%cd {git_path}"
      ],
      "execution_count": 29,
      "outputs": [
        {
          "output_type": "stream",
          "text": [
            "/content/drive/MyDrive/code/ADA\n"
          ],
          "name": "stdout"
        }
      ]
    },
    {
      "cell_type": "code",
      "metadata": {
        "colab": {
          "base_uri": "https://localhost:8080/"
        },
        "id": "_JVyR5xqUMIy",
        "outputId": "1d553231-d52c-4485-9e58-c007be1af00e"
      },
      "source": [
        "!python ./dataset_tool.py create_from_images ./datasets/{dataset_name} {dataset_path+dataset_name}"
      ],
      "execution_count": 30,
      "outputs": [
        {
          "output_type": "stream",
          "text": [
            "Loading images from \"/content/drive/MyDrive/dataset/retina\"\n",
            "Creating dataset \"./datasets/retina\"\n",
            "0 / 18\r./dataset_tool.py:96: DeprecationWarning: tostring() is deprecated. Use tobytes() instead.\n",
            "  'data': tf.train.Feature(bytes_list=tf.train.BytesList(value=[quant.tostring()]))}))\n",
            "Added 18 images.\n"
          ],
          "name": "stdout"
        }
      ]
    },
    {
      "cell_type": "code",
      "metadata": {
        "colab": {
          "base_uri": "https://localhost:8080/"
        },
        "id": "vGzMveC_VdxS",
        "outputId": "091409fa-cbc9-4237-bff2-5f5ca1dbba79"
      },
      "source": [
        "mirror=False\n",
        "metrics=None\n",
        "# --resume=resume\n",
        "!python ./train.py --outdir ./results --snap={4} --cfg={'auto'} --data=./datasets/{dataset_name} --augpipe={\"bg\"} --mirror={mirror}  --metrics={metrics} --augpipe=\"bg\""
      ],
      "execution_count": 36,
      "outputs": [
        {
          "output_type": "stream",
          "text": [
            "2021-07-12 20:15:42.133904: E tensorflow/stream_executor/cuda/cuda_driver.cc:318] failed call to cuInit: CUDA_ERROR_NO_DEVICE: no CUDA-capable device is detected\n",
            "tcmalloc: large alloc 4294967296 bytes == 0x5584c5a2a000 @  0x7f48c281b001 0x7f48bfa5e54f 0x7f48bfaaeb58 0x7f48bfab2b17 0x7f48bfb51203 0x5584be649d54 0x5584be649a50 0x5584be6be105 0x5584be6b87ad 0x5584be64bc9f 0x5584be68cd79 0x5584be689cc4 0x5584be64a559 0x5584be6be4f8 0x5584be6b84ae 0x5584be58ae2c 0x5584be6babb5 0x5584be6b84ae 0x5584be58ae2c 0x5584be6babb5 0x5584be6b87ad 0x5584be58ae2c 0x5584be6babb5 0x5584be64b30a 0x5584be6b93b5 0x5584be6b84ae 0x5584be6b81b3 0x5584be782182 0x5584be7824fd 0x5584be7823a6 0x5584be759723\n",
            "tcmalloc: large alloc 4294967296 bytes == 0x5585c5a2a000 @  0x7f48c28191e7 0x7f48bfa5e46e 0x7f48bfaaec7b 0x7f48bfaaf35f 0x7f48bfb51103 0x5584be649d54 0x5584be649a50 0x5584be6be105 0x5584be6b84ae 0x5584be64b3ea 0x5584be6ba32a 0x5584be6b84ae 0x5584be64b3ea 0x5584be6ba32a 0x5584be6b84ae 0x5584be64b3ea 0x5584be6ba32a 0x5584be64b30a 0x5584be6b93b5 0x5584be6b84ae 0x5584be64b3ea 0x5584be6bd7f0 0x5584be6b84ae 0x5584be64b3ea 0x5584be6ba32a 0x5584be6b87ad 0x5584be64bc9f 0x5584be68cd79 0x5584be689cc4 0x5584be64a559 0x5584be6be4f8\n",
            "tcmalloc: large alloc 4294967296 bytes == 0x5586c652c000 @  0x7f48c28191e7 0x7f48bfa5e46e 0x7f48bfaaec7b 0x7f48bfaaf35f 0x7f487c420235 0x7f487bda3792 0x7f487bda3d42 0x7f487bd5caee 0x5584be649c47 0x5584be649a50 0x5584be6bdbe0 0x5584be64b30a 0x5584be6b960e 0x5584be6b87ad 0x5584be58aeb1 0x5584be6babb5 0x5584be6b84ae 0x5584be64b3ea 0x5584be6b960e 0x5584be6b87ad 0x5584be64b3ea 0x5584be6b960e 0x5584be64b30a 0x5584be6b960e 0x5584be6b84ae 0x5584be64ba81 0x5584be64bea1 0x5584be6babb5 0x5584be6b84ae 0x5584be64b3ea 0x5584be6b93b5\n",
            "\n",
            "Training options:\n",
            "{\n",
            "  \"G_args\": {\n",
            "    \"func_name\": \"training.networks.G_main\",\n",
            "    \"fmap_base\": 16384,\n",
            "    \"fmap_max\": 512,\n",
            "    \"mapping_layers\": 2,\n",
            "    \"num_fp16_res\": 4,\n",
            "    \"conv_clamp\": 256\n",
            "  },\n",
            "  \"D_args\": {\n",
            "    \"func_name\": \"training.networks.D_main\",\n",
            "    \"mbstd_group_size\": 4,\n",
            "    \"fmap_base\": 16384,\n",
            "    \"fmap_max\": 512,\n",
            "    \"num_fp16_res\": 4,\n",
            "    \"conv_clamp\": 256\n",
            "  },\n",
            "  \"G_opt_args\": {\n",
            "    \"beta1\": 0.0,\n",
            "    \"beta2\": 0.99,\n",
            "    \"learning_rate\": 0.0025\n",
            "  },\n",
            "  \"D_opt_args\": {\n",
            "    \"beta1\": 0.0,\n",
            "    \"beta2\": 0.99,\n",
            "    \"learning_rate\": 0.0025\n",
            "  },\n",
            "  \"loss_args\": {\n",
            "    \"func_name\": \"training.loss.stylegan2\",\n",
            "    \"r1_gamma\": 6.5536\n",
            "  },\n",
            "  \"augment_args\": {\n",
            "    \"class_name\": \"training.augment.AdaptiveAugment\",\n",
            "    \"tune_heuristic\": \"rt\",\n",
            "    \"tune_target\": 0.6,\n",
            "    \"apply_func\": \"training.augment.augment_pipeline\",\n",
            "    \"apply_args\": {\n",
            "      \"xflip\": 1,\n",
            "      \"rotate90\": 1,\n",
            "      \"xint\": 1,\n",
            "      \"scale\": 1,\n",
            "      \"rotate\": 1,\n",
            "      \"aniso\": 1,\n",
            "      \"xfrac\": 1\n",
            "    }\n",
            "  },\n",
            "  \"num_gpus\": 1,\n",
            "  \"image_snapshot_ticks\": 4,\n",
            "  \"network_snapshot_ticks\": 4,\n",
            "  \"train_dataset_args\": {\n",
            "    \"path\": \"./datasets/retina\",\n",
            "    \"max_label_size\": 0,\n",
            "    \"resolution\": 512,\n",
            "    \"mirror_augment\": false\n",
            "  },\n",
            "  \"metric_arg_list\": [],\n",
            "  \"metric_dataset_args\": {\n",
            "    \"path\": \"./datasets/retina\",\n",
            "    \"max_label_size\": 0,\n",
            "    \"resolution\": 512,\n",
            "    \"mirror_augment\": false\n",
            "  },\n",
            "  \"total_kimg\": 25000,\n",
            "  \"minibatch_size\": 8,\n",
            "  \"minibatch_gpu\": 8,\n",
            "  \"G_smoothing_kimg\": 2.5,\n",
            "  \"G_smoothing_rampup\": 0.05,\n",
            "  \"run_dir\": \"./results/00000-retina-auto1-bg\"\n",
            "}\n",
            "\n",
            "Output directory:  ./results/00000-retina-auto1-bg\n",
            "Training data:     ./datasets/retina\n",
            "Training length:   25000 kimg\n",
            "Resolution:        512\n",
            "Number of GPUs:    1\n",
            "\n",
            "Creating output directory...\n",
            "Loading training set...\n",
            "tcmalloc: large alloc 4294967296 bytes == 0x5587c652c000 @  0x7f48c281b001 0x7f48bfa5e54f 0x7f48bfaaeb58 0x7f48bfab2b17 0x7f48bfb51203 0x5584be649d54 0x5584be649a50 0x5584be6be105 0x5584be6b87ad 0x5584be64bc9f 0x5584be68cd79 0x5584be689cc4 0x5584be64a559 0x5584be6be4f8 0x5584be6b84ae 0x5584be58ae2c 0x5584be6babb5 0x5584be6b84ae 0x5584be58ae2c 0x5584be6babb5 0x5584be6b87ad 0x5584be58ae2c 0x5584be6babb5 0x5584be64b30a 0x5584be6b93b5 0x5584be6b84ae 0x5584be6b81b3 0x5584be782182 0x5584be7824fd 0x5584be7823a6 0x5584be759723\n",
            "tcmalloc: large alloc 4294967296 bytes == 0x5588c6d2c000 @  0x7f48c28191e7 0x7f48bfa5e46e 0x7f48bfaaec7b 0x7f48bfaaf35f 0x7f48bfb51103 0x5584be649d54 0x5584be649a50 0x5584be6be105 0x5584be6b84ae 0x5584be64b3ea 0x5584be6ba32a 0x5584be6b84ae 0x5584be64b3ea 0x5584be6ba32a 0x5584be6b84ae 0x5584be64b3ea 0x5584be6ba32a 0x5584be64b30a 0x5584be6b93b5 0x5584be6b84ae 0x5584be64b3ea 0x5584be6bd7f0 0x5584be6b84ae 0x5584be64b3ea 0x5584be6ba32a 0x5584be6b87ad 0x5584be64bc9f 0x5584be68cd79 0x5584be689cc4 0x5584be64a559 0x5584be6be4f8\n",
            "tcmalloc: large alloc 4294967296 bytes == 0x5588c6d2c000 @  0x7f48c28191e7 0x7f48bfa5e46e 0x7f48bfaaec7b 0x7f48bfaaf35f 0x7f487c420235 0x7f487bda3792 0x7f487bda3d42 0x7f487bd5caee 0x5584be649c47 0x5584be649a50 0x5584be6bdbe0 0x5584be64b30a 0x5584be6b960e 0x5584be6b87ad 0x5584be58aeb1 0x5584be6babb5 0x5584be6b84ae 0x5584be64b3ea 0x5584be6b960e 0x5584be6b87ad 0x5584be64b3ea 0x5584be6b960e 0x5584be64b30a 0x5584be6b960e 0x5584be6b84ae 0x5584be64ba81 0x5584be64bea1 0x5584be6babb5 0x5584be6b84ae 0x5584be64b3ea 0x5584be6b93b5\n",
            "Image shape: [3, 512, 512]\n",
            "Label shape: [0]\n",
            "\n",
            "Constructing networks...\n",
            "Setting up TensorFlow plugin \"fused_bias_act.cu\": Failed!\n",
            "Traceback (most recent call last):\n",
            "  File \"./train.py\", line 561, in <module>\n",
            "    main()\n",
            "  File \"./train.py\", line 553, in main\n",
            "    run_training(**vars(args))\n",
            "  File \"./train.py\", line 451, in run_training\n",
            "    training_loop.training_loop(**training_options)\n",
            "  File \"/content/drive/My Drive/code/ADA/training/training_loop.py\", line 123, in training_loop\n",
            "    Gs = G.clone('Gs')\n",
            "  File \"/content/drive/My Drive/code/ADA/dnnlib/tflib/network.py\", line 457, in clone\n",
            "    net.copy_vars_from(self)\n",
            "  File \"/content/drive/My Drive/code/ADA/dnnlib/tflib/network.py\", line 490, in copy_vars_from\n",
            "    src_net._get_vars()\n",
            "  File \"/content/drive/My Drive/code/ADA/dnnlib/tflib/network.py\", line 297, in _get_vars\n",
            "    self._vars = OrderedDict(self._get_own_vars())\n",
            "  File \"/content/drive/My Drive/code/ADA/dnnlib/tflib/network.py\", line 286, in _get_own_vars\n",
            "    self._init_graph()\n",
            "  File \"/content/drive/My Drive/code/ADA/dnnlib/tflib/network.py\", line 151, in _init_graph\n",
            "    out_expr = self._build_func(*self._input_templates, **build_kwargs)\n",
            "  File \"/content/drive/My Drive/code/ADA/training/networks.py\", line 231, in G_main\n",
            "    num_layers = components.synthesis.input_shape[1]\n",
            "  File \"/content/drive/My Drive/code/ADA/dnnlib/tflib/network.py\", line 232, in input_shape\n",
            "    return self.input_shapes[0]\n",
            "  File \"/content/drive/My Drive/code/ADA/dnnlib/tflib/network.py\", line 219, in input_shapes\n",
            "    self._input_shapes = [t.shape.as_list() for t in self.input_templates]\n",
            "  File \"/content/drive/My Drive/code/ADA/dnnlib/tflib/network.py\", line 267, in input_templates\n",
            "    self._init_graph()\n",
            "  File \"/content/drive/My Drive/code/ADA/dnnlib/tflib/network.py\", line 151, in _init_graph\n",
            "    out_expr = self._build_func(*self._input_templates, **build_kwargs)\n",
            "  File \"/content/drive/My Drive/code/ADA/training/networks.py\", line 439, in G_synthesis\n",
            "    x = layer(x, layer_idx=0, fmaps=nf(1), kernel=3)\n",
            "  File \"/content/drive/My Drive/code/ADA/training/networks.py\", line 392, in layer\n",
            "    x = modulated_conv2d_layer(x, dlatents_in[:, layer_idx], fmaps=fmaps, kernel=kernel, up=up, resample_kernel=resample_kernel, fused_modconv=fused_modconv)\n",
            "  File \"/content/drive/My Drive/code/ADA/training/networks.py\", line 105, in modulated_conv2d_layer\n",
            "    s = apply_bias_act(s, bias_var='mod_bias', trainable=trainable) + 1 # [BI] Add bias (initially 1).\n",
            "  File \"/content/drive/My Drive/code/ADA/training/networks.py\", line 50, in apply_bias_act\n",
            "    return fused_bias_act(x, b=tf.cast(b, x.dtype), act=act, gain=gain, clamp=clamp)\n",
            "  File \"/content/drive/My Drive/code/ADA/dnnlib/tflib/ops/fused_bias_act.py\", line 72, in fused_bias_act\n",
            "    return impl_dict[impl](x=x, b=b, axis=axis, act=act, alpha=alpha, gain=gain, clamp=clamp)\n",
            "  File \"/content/drive/My Drive/code/ADA/dnnlib/tflib/ops/fused_bias_act.py\", line 132, in _fused_bias_act_cuda\n",
            "    cuda_op = _get_plugin().fused_bias_act\n",
            "  File \"/content/drive/My Drive/code/ADA/dnnlib/tflib/ops/fused_bias_act.py\", line 18, in _get_plugin\n",
            "    return custom_ops.get_plugin(os.path.splitext(__file__)[0] + '.cu')\n",
            "  File \"/content/drive/My Drive/code/ADA/dnnlib/tflib/custom_ops.py\", line 139, in get_plugin\n",
            "    compile_opts += f' --gpu-architecture={_get_cuda_gpu_arch_string()}'\n",
            "  File \"/content/drive/My Drive/code/ADA/dnnlib/tflib/custom_ops.py\", line 60, in _get_cuda_gpu_arch_string\n",
            "    raise RuntimeError('No GPU devices found')\n",
            "RuntimeError: No GPU devices found\n"
          ],
          "name": "stdout"
        }
      ]
    }
  ]
}