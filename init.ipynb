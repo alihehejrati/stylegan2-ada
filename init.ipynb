{
  "nbformat": 4,
  "nbformat_minor": 0,
  "metadata": {
    "colab": {
      "name": "Copy of Untitled1.ipynb",
      "provenance": [],
      "collapsed_sections": [],
      "include_colab_link": true
    },
    "kernelspec": {
      "name": "python3",
      "display_name": "Python 3"
    },
    "language_info": {
      "name": "python"
    },
    "accelerator": "GPU"
  },
  "cells": [
    {
      "cell_type": "markdown",
      "metadata": {
        "id": "view-in-github",
        "colab_type": "text"
      },
      "source": [
        "<a href=\"https://colab.research.google.com/github/alihejrati/stylegan2-ada/blob/main/init.ipynb\" target=\"_parent\"><img src=\"https://colab.research.google.com/assets/colab-badge.svg\" alt=\"Open In Colab\"/></a>"
      ]
    },
    {
      "cell_type": "code",
      "metadata": {
        "id": "X55QPyYO-bz_"
      },
      "source": [
        "git_url='https://github.com/alihehejrati/stylegan2-ada.git'\n",
        "git_path='/content/drive/MyDrive/code/ADA/'\n",
        "dataset_path='/content/drive/MyDrive/dataset/'\n",
        "dataset_name='retina'\n",
        "format='JPG'\n",
        "size=(512,512)"
      ],
      "execution_count": 2,
      "outputs": []
    },
    {
      "cell_type": "code",
      "metadata": {
        "id": "HnGYzxLRA2gC",
        "colab": {
          "base_uri": "https://localhost:8080/"
        },
        "outputId": "d78dd3bf-e24b-4054-8c5a-1138708248e7"
      },
      "source": [
        "from google.colab import drive\n",
        "drive.mount('/content/drive')"
      ],
      "execution_count": 3,
      "outputs": [
        {
          "output_type": "stream",
          "text": [
            "Mounted at /content/drive\n"
          ],
          "name": "stdout"
        }
      ]
    },
    {
      "cell_type": "code",
      "metadata": {
        "id": "rKnpMk8sBu3o",
        "colab": {
          "base_uri": "https://localhost:8080/"
        },
        "outputId": "17935b5c-7678-49d3-8909-f18b7fa73219"
      },
      "source": [
        "%cd '/content/drive'"
      ],
      "execution_count": 4,
      "outputs": [
        {
          "output_type": "stream",
          "text": [
            "/content/drive\n"
          ],
          "name": "stdout"
        }
      ]
    },
    {
      "cell_type": "code",
      "metadata": {
        "id": "jV_Qugq2-eIY",
        "colab": {
          "base_uri": "https://localhost:8080/"
        },
        "outputId": "42b13816-4ea8-4de5-9651-91fbe1f4a6cc"
      },
      "source": [
        "!git clone {git_url} {git_path}"
      ],
      "execution_count": null,
      "outputs": [
        {
          "output_type": "stream",
          "text": [
            "Cloning into '/content/drive/MyDrive/code/ADA'...\n",
            "remote: Enumerating objects: 74, done.\u001b[K\n",
            "remote: Counting objects: 100% (3/3), done.\u001b[K\n",
            "remote: Compressing objects: 100% (3/3), done.\u001b[K\n",
            "remote: Total 74 (delta 0), reused 0 (delta 0), pack-reused 71\u001b[K\n",
            "Unpacking objects: 100% (74/74), done.\n"
          ],
          "name": "stdout"
        }
      ]
    },
    {
      "cell_type": "code",
      "metadata": {
        "id": "Xw-SKycG_ysb",
        "colab": {
          "base_uri": "https://localhost:8080/"
        },
        "outputId": "0f170f3b-b10b-4c2a-c243-2195c1ebb7ac"
      },
      "source": [
        "!unzip {dataset_path+dataset_name+'.zip'} -d {dataset_path+dataset_name}"
      ],
      "execution_count": null,
      "outputs": [
        {
          "output_type": "stream",
          "text": [
            "Archive:  /content/drive/MyDrive/dataset/retina.zip\n",
            "  inflating: /content/drive/MyDrive/dataset/retina/1_good.JPG  \n",
            "  inflating: /content/drive/MyDrive/dataset/retina/2_good.JPG  \n",
            "  inflating: /content/drive/MyDrive/dataset/retina/3_good.JPG  \n",
            "  inflating: /content/drive/MyDrive/dataset/retina/4_good.JPG  \n",
            "  inflating: /content/drive/MyDrive/dataset/retina/5_good.JPG  \n",
            "  inflating: /content/drive/MyDrive/dataset/retina/6_good.JPG  \n",
            "  inflating: /content/drive/MyDrive/dataset/retina/7_good.JPG  \n",
            "  inflating: /content/drive/MyDrive/dataset/retina/8_good.JPG  \n",
            "  inflating: /content/drive/MyDrive/dataset/retina/9_good.JPG  \n",
            "  inflating: /content/drive/MyDrive/dataset/retina/10_good.JPG  \n",
            "  inflating: /content/drive/MyDrive/dataset/retina/11_good.JPG  \n",
            "  inflating: /content/drive/MyDrive/dataset/retina/12_good.JPG  \n",
            "  inflating: /content/drive/MyDrive/dataset/retina/13_good.JPG  \n",
            "  inflating: /content/drive/MyDrive/dataset/retina/14_good.JPG  \n",
            "  inflating: /content/drive/MyDrive/dataset/retina/15_good.JPG  \n",
            "  inflating: /content/drive/MyDrive/dataset/retina/16_good.JPG  \n",
            "  inflating: /content/drive/MyDrive/dataset/retina/17_good.JPG  \n",
            "  inflating: /content/drive/MyDrive/dataset/retina/18_good.JPG  \n"
          ],
          "name": "stdout"
        }
      ]
    },
    {
      "cell_type": "code",
      "metadata": {
        "id": "mu0Hn5NaIq9S"
      },
      "source": [
        "from PIL import Image\n",
        "import glob\n",
        "for f in glob.glob(dataset_path+dataset_name+'/*.'+format):\n",
        "  Image.open(f).resize(size).save(f)"
      ],
      "execution_count": null,
      "outputs": []
    },
    {
      "cell_type": "code",
      "metadata": {
        "id": "d6z2lmyWTRav",
        "colab": {
          "base_uri": "https://localhost:8080/"
        },
        "outputId": "414958de-4e2f-424d-e4bc-8b7a5a6332a1"
      },
      "source": [
        "%tensorflow_version 1.x"
      ],
      "execution_count": 5,
      "outputs": [
        {
          "output_type": "stream",
          "text": [
            "TensorFlow 1.x selected.\n"
          ],
          "name": "stdout"
        }
      ]
    },
    {
      "cell_type": "code",
      "metadata": {
        "colab": {
          "base_uri": "https://localhost:8080/"
        },
        "id": "bj3ncaLEUYXE",
        "outputId": "aee05c2b-ee2e-4218-9452-bba3f672e525"
      },
      "source": [
        "%cd {git_path}"
      ],
      "execution_count": 6,
      "outputs": [
        {
          "output_type": "stream",
          "text": [
            "/content/drive/MyDrive/code/ADA\n"
          ],
          "name": "stdout"
        }
      ]
    },
    {
      "cell_type": "code",
      "metadata": {
        "colab": {
          "base_uri": "https://localhost:8080/"
        },
        "id": "_JVyR5xqUMIy",
        "outputId": "1d8cd918-bc56-4be2-fccc-3b8a735c7a19"
      },
      "source": [
        "!python ./dataset_tool.py create_from_images ./datasets/{dataset_name} {dataset_path+dataset_name}"
      ],
      "execution_count": 7,
      "outputs": [
        {
          "output_type": "stream",
          "text": [
            "Loading images from \"/content/drive/MyDrive/dataset/retina\"\n",
            "Creating dataset \"./datasets/retina\"\n",
            "./dataset_tool.py:96: DeprecationWarning: tostring() is deprecated. Use tobytes() instead.\n",
            "  'data': tf.train.Feature(bytes_list=tf.train.BytesList(value=[quant.tostring()]))}))\n",
            "Added 18 images.\n"
          ],
          "name": "stdout"
        }
      ]
    },
    {
      "cell_type": "code",
      "metadata": {
        "colab": {
          "base_uri": "https://localhost:8080/"
        },
        "id": "vGzMveC_VdxS",
        "outputId": "e1f4f92d-360e-4696-f58e-a35db33963da"
      },
      "source": [
        "mirror=False\n",
        "metrics=None\n",
        "# --resume=resume\n",
        "!python ./train.py --outdir ./results --snap={4} --cfg={'auto'} --data=./datasets/{dataset_name} --augpipe={\"bg\"} --mirror={mirror}  --metrics={metrics} --augpipe=\"bg\""
      ],
      "execution_count": null,
      "outputs": [
        {
          "output_type": "stream",
          "text": [
            "tcmalloc: large alloc 4294967296 bytes == 0x561236a2c000 @  0x7faad6568001 0x7faad37ab54f 0x7faad37fbb58 0x7faad37ffb17 0x7faad389e203 0x56122eb55d54 0x56122eb55a50 0x56122ebca105 0x56122ebc47ad 0x56122eb57c9f 0x56122eb98d79 0x56122eb95cc4 0x56122eb56559 0x56122ebca4f8 0x56122ebc44ae 0x56122ea96e2c 0x56122ebc6bb5 0x56122ebc44ae 0x56122ea96e2c 0x56122ebc6bb5 0x56122ebc47ad 0x56122ea96e2c 0x56122ebc6bb5 0x56122eb5730a 0x56122ebc53b5 0x56122ebc44ae 0x56122ebc41b3 0x56122ec8e182 0x56122ec8e4fd 0x56122ec8e3a6 0x56122ec65723\n",
            "tcmalloc: large alloc 4294967296 bytes == 0x561336a2c000 @  0x7faad65661e7 0x7faad37ab46e 0x7faad37fbc7b 0x7faad37fc35f 0x7faad389e103 0x56122eb55d54 0x56122eb55a50 0x56122ebca105 0x56122ebc44ae 0x56122eb573ea 0x56122ebc632a 0x56122ebc44ae 0x56122eb573ea 0x56122ebc632a 0x56122ebc44ae 0x56122eb573ea 0x56122ebc632a 0x56122eb5730a 0x56122ebc53b5 0x56122ebc44ae 0x56122eb573ea 0x56122ebc97f0 0x56122ebc44ae 0x56122eb573ea 0x56122ebc632a 0x56122ebc47ad 0x56122eb57c9f 0x56122eb98d79 0x56122eb95cc4 0x56122eb56559 0x56122ebca4f8\n",
            "tcmalloc: large alloc 4294967296 bytes == 0x56143754a000 @  0x7faad65661e7 0x7faad37ab46e 0x7faad37fbc7b 0x7faad37fc35f 0x7faa9016d235 0x7faa8faf0792 0x7faa8faf0d42 0x7faa8faa9aee 0x56122eb55c47 0x56122eb55a50 0x56122ebc9be0 0x56122eb5730a 0x56122ebc560e 0x56122ebc47ad 0x56122ea96eb1 0x56122ebc6bb5 0x56122ebc44ae 0x56122eb573ea 0x56122ebc560e 0x56122ebc47ad 0x56122eb573ea 0x56122ebc560e 0x56122eb5730a 0x56122ebc560e 0x56122ebc44ae 0x56122eb57a81 0x56122eb57ea1 0x56122ebc6bb5 0x56122ebc44ae 0x56122eb573ea 0x56122ebc53b5\n",
            "\n",
            "Training options:\n",
            "{\n",
            "  \"G_args\": {\n",
            "    \"func_name\": \"training.networks.G_main\",\n",
            "    \"fmap_base\": 16384,\n",
            "    \"fmap_max\": 512,\n",
            "    \"mapping_layers\": 2,\n",
            "    \"num_fp16_res\": 4,\n",
            "    \"conv_clamp\": 256\n",
            "  },\n",
            "  \"D_args\": {\n",
            "    \"func_name\": \"training.networks.D_main\",\n",
            "    \"mbstd_group_size\": 4,\n",
            "    \"fmap_base\": 16384,\n",
            "    \"fmap_max\": 512,\n",
            "    \"num_fp16_res\": 4,\n",
            "    \"conv_clamp\": 256\n",
            "  },\n",
            "  \"G_opt_args\": {\n",
            "    \"beta1\": 0.0,\n",
            "    \"beta2\": 0.99,\n",
            "    \"learning_rate\": 0.0025\n",
            "  },\n",
            "  \"D_opt_args\": {\n",
            "    \"beta1\": 0.0,\n",
            "    \"beta2\": 0.99,\n",
            "    \"learning_rate\": 0.0025\n",
            "  },\n",
            "  \"loss_args\": {\n",
            "    \"func_name\": \"training.loss.stylegan2\",\n",
            "    \"r1_gamma\": 6.5536\n",
            "  },\n",
            "  \"augment_args\": {\n",
            "    \"class_name\": \"training.augment.AdaptiveAugment\",\n",
            "    \"tune_heuristic\": \"rt\",\n",
            "    \"tune_target\": 0.6,\n",
            "    \"apply_func\": \"training.augment.augment_pipeline\",\n",
            "    \"apply_args\": {\n",
            "      \"xflip\": 1,\n",
            "      \"rotate90\": 1,\n",
            "      \"xint\": 1,\n",
            "      \"scale\": 1,\n",
            "      \"rotate\": 1,\n",
            "      \"aniso\": 1,\n",
            "      \"xfrac\": 1\n",
            "    }\n",
            "  },\n",
            "  \"num_gpus\": 1,\n",
            "  \"image_snapshot_ticks\": 4,\n",
            "  \"network_snapshot_ticks\": 4,\n",
            "  \"train_dataset_args\": {\n",
            "    \"path\": \"./datasets/retina\",\n",
            "    \"max_label_size\": 0,\n",
            "    \"resolution\": 512,\n",
            "    \"mirror_augment\": false\n",
            "  },\n",
            "  \"metric_arg_list\": [],\n",
            "  \"metric_dataset_args\": {\n",
            "    \"path\": \"./datasets/retina\",\n",
            "    \"max_label_size\": 0,\n",
            "    \"resolution\": 512,\n",
            "    \"mirror_augment\": false\n",
            "  },\n",
            "  \"total_kimg\": 25000,\n",
            "  \"minibatch_size\": 8,\n",
            "  \"minibatch_gpu\": 8,\n",
            "  \"G_smoothing_kimg\": 2.5,\n",
            "  \"G_smoothing_rampup\": 0.05,\n",
            "  \"run_dir\": \"./results/00003-retina-auto1-bg\"\n",
            "}\n",
            "\n",
            "Output directory:  ./results/00003-retina-auto1-bg\n",
            "Training data:     ./datasets/retina\n",
            "Training length:   25000 kimg\n",
            "Resolution:        512\n",
            "Number of GPUs:    1\n",
            "\n",
            "Creating output directory...\n",
            "Loading training set...\n",
            "tcmalloc: large alloc 4294967296 bytes == 0x56153754a000 @  0x7faad6568001 0x7faad37ab54f 0x7faad37fbb58 0x7faad37ffb17 0x7faad389e203 0x56122eb55d54 0x56122eb55a50 0x56122ebca105 0x56122ebc47ad 0x56122eb57c9f 0x56122eb98d79 0x56122eb95cc4 0x56122eb56559 0x56122ebca4f8 0x56122ebc44ae 0x56122ea96e2c 0x56122ebc6bb5 0x56122ebc44ae 0x56122ea96e2c 0x56122ebc6bb5 0x56122ebc47ad 0x56122ea96e2c 0x56122ebc6bb5 0x56122eb5730a 0x56122ebc53b5 0x56122ebc44ae 0x56122ebc41b3 0x56122ec8e182 0x56122ec8e4fd 0x56122ec8e3a6 0x56122ec65723\n",
            "tcmalloc: large alloc 4294967296 bytes == 0x561637d4a000 @  0x7faad65661e7 0x7faad37ab46e 0x7faad37fbc7b 0x7faad37fc35f 0x7faad389e103 0x56122eb55d54 0x56122eb55a50 0x56122ebca105 0x56122ebc44ae 0x56122eb573ea 0x56122ebc632a 0x56122ebc44ae 0x56122eb573ea 0x56122ebc632a 0x56122ebc44ae 0x56122eb573ea 0x56122ebc632a 0x56122eb5730a 0x56122ebc53b5 0x56122ebc44ae 0x56122eb573ea 0x56122ebc97f0 0x56122ebc44ae 0x56122eb573ea 0x56122ebc632a 0x56122ebc47ad 0x56122eb57c9f 0x56122eb98d79 0x56122eb95cc4 0x56122eb56559 0x56122ebca4f8\n",
            "tcmalloc: large alloc 4294967296 bytes == 0x561637d4a000 @  0x7faad65661e7 0x7faad37ab46e 0x7faad37fbc7b 0x7faad37fc35f 0x7faa9016d235 0x7faa8faf0792 0x7faa8faf0d42 0x7faa8faa9aee 0x56122eb55c47 0x56122eb55a50 0x56122ebc9be0 0x56122eb5730a 0x56122ebc560e 0x56122ebc47ad 0x56122ea96eb1 0x56122ebc6bb5 0x56122ebc44ae 0x56122eb573ea 0x56122ebc560e 0x56122ebc47ad 0x56122eb573ea 0x56122ebc560e 0x56122eb5730a 0x56122ebc560e 0x56122ebc44ae 0x56122eb57a81 0x56122eb57ea1 0x56122ebc6bb5 0x56122ebc44ae 0x56122eb573ea 0x56122ebc53b5\n",
            "Image shape: [3, 512, 512]\n",
            "Label shape: [0]\n",
            "\n",
            "Constructing networks...\n",
            "Setting up TensorFlow plugin \"fused_bias_act.cu\": Compiling... Loading... Done.\n",
            "Setting up TensorFlow plugin \"upfirdn_2d.cu\": Compiling... Loading... Done.\n",
            "\n",
            "G                             Params    OutputShape         WeightShape     \n",
            "---                           ---       ---                 ---             \n",
            "latents_in                    -         (?, 512)            -               \n",
            "labels_in                     -         (?, 0)              -               \n",
            "G_mapping/Normalize           -         (?, 512)            -               \n",
            "G_mapping/Dense0              262656    (?, 512)            (512, 512)      \n",
            "G_mapping/Dense1              262656    (?, 512)            (512, 512)      \n",
            "G_mapping/Broadcast           -         (?, 16, 512)        -               \n",
            "dlatent_avg                   -         (512,)              -               \n",
            "Truncation/Lerp               -         (?, 16, 512)        -               \n",
            "G_synthesis/4x4/Const         8192      (?, 512, 4, 4)      (1, 512, 4, 4)  \n",
            "G_synthesis/4x4/Conv          2622465   (?, 512, 4, 4)      (3, 3, 512, 512)\n",
            "G_synthesis/4x4/ToRGB         264195    (?, 3, 4, 4)        (1, 1, 512, 3)  \n",
            "G_synthesis/8x8/Conv0_up      2622465   (?, 512, 8, 8)      (3, 3, 512, 512)\n",
            "G_synthesis/8x8/Conv1         2622465   (?, 512, 8, 8)      (3, 3, 512, 512)\n",
            "G_synthesis/8x8/Upsample      -         (?, 3, 8, 8)        -               \n",
            "G_synthesis/8x8/ToRGB         264195    (?, 3, 8, 8)        (1, 1, 512, 3)  \n",
            "G_synthesis/16x16/Conv0_up    2622465   (?, 512, 16, 16)    (3, 3, 512, 512)\n",
            "G_synthesis/16x16/Conv1       2622465   (?, 512, 16, 16)    (3, 3, 512, 512)\n",
            "G_synthesis/16x16/Upsample    -         (?, 3, 16, 16)      -               \n",
            "G_synthesis/16x16/ToRGB       264195    (?, 3, 16, 16)      (1, 1, 512, 3)  \n",
            "G_synthesis/32x32/Conv0_up    2622465   (?, 512, 32, 32)    (3, 3, 512, 512)\n",
            "G_synthesis/32x32/Conv1       2622465   (?, 512, 32, 32)    (3, 3, 512, 512)\n",
            "G_synthesis/32x32/Upsample    -         (?, 3, 32, 32)      -               \n",
            "G_synthesis/32x32/ToRGB       264195    (?, 3, 32, 32)      (1, 1, 512, 3)  \n",
            "G_synthesis/64x64/Conv0_up    2622465   (?, 512, 64, 64)    (3, 3, 512, 512)\n",
            "G_synthesis/64x64/Conv1       2622465   (?, 512, 64, 64)    (3, 3, 512, 512)\n",
            "G_synthesis/64x64/Upsample    -         (?, 3, 64, 64)      -               \n",
            "G_synthesis/64x64/ToRGB       264195    (?, 3, 64, 64)      (1, 1, 512, 3)  \n",
            "G_synthesis/128x128/Conv0_up  1442561   (?, 256, 128, 128)  (3, 3, 512, 256)\n",
            "G_synthesis/128x128/Conv1     721409    (?, 256, 128, 128)  (3, 3, 256, 256)\n",
            "G_synthesis/128x128/Upsample  -         (?, 3, 128, 128)    -               \n",
            "G_synthesis/128x128/ToRGB     132099    (?, 3, 128, 128)    (1, 1, 256, 3)  \n",
            "G_synthesis/256x256/Conv0_up  426369    (?, 128, 256, 256)  (3, 3, 256, 128)\n",
            "G_synthesis/256x256/Conv1     213249    (?, 128, 256, 256)  (3, 3, 128, 128)\n",
            "G_synthesis/256x256/Upsample  -         (?, 3, 256, 256)    -               \n",
            "G_synthesis/256x256/ToRGB     66051     (?, 3, 256, 256)    (1, 1, 128, 3)  \n",
            "G_synthesis/512x512/Conv0_up  139457    (?, 64, 512, 512)   (3, 3, 128, 64) \n",
            "G_synthesis/512x512/Conv1     69761     (?, 64, 512, 512)   (3, 3, 64, 64)  \n",
            "G_synthesis/512x512/Upsample  -         (?, 3, 512, 512)    -               \n",
            "G_synthesis/512x512/ToRGB     33027     (?, 3, 512, 512)    (1, 1, 64, 3)   \n",
            "---                           ---       ---                 ---             \n",
            "Total                         28700647                                      \n",
            "\n",
            "\n",
            "D                    Params    OutputShape         WeightShape     \n",
            "---                  ---       ---                 ---             \n",
            "images_in            -         (?, 3, 512, 512)    -               \n",
            "labels_in            -         (?, 0)              -               \n",
            "512x512/FromRGB      256       (?, 64, 512, 512)   (1, 1, 3, 64)   \n",
            "512x512/Conv0        36928     (?, 64, 512, 512)   (3, 3, 64, 64)  \n",
            "512x512/Conv1_down   73856     (?, 128, 256, 256)  (3, 3, 64, 128) \n",
            "512x512/Skip         8192      (?, 128, 256, 256)  (1, 1, 64, 128) \n",
            "256x256/Conv0        147584    (?, 128, 256, 256)  (3, 3, 128, 128)\n",
            "256x256/Conv1_down   295168    (?, 256, 128, 128)  (3, 3, 128, 256)\n",
            "256x256/Skip         32768     (?, 256, 128, 128)  (1, 1, 128, 256)\n",
            "128x128/Conv0        590080    (?, 256, 128, 128)  (3, 3, 256, 256)\n",
            "128x128/Conv1_down   1180160   (?, 512, 64, 64)    (3, 3, 256, 512)\n",
            "128x128/Skip         131072    (?, 512, 64, 64)    (1, 1, 256, 512)\n",
            "64x64/Conv0          2359808   (?, 512, 64, 64)    (3, 3, 512, 512)\n",
            "64x64/Conv1_down     2359808   (?, 512, 32, 32)    (3, 3, 512, 512)\n",
            "64x64/Skip           262144    (?, 512, 32, 32)    (1, 1, 512, 512)\n",
            "32x32/Conv0          2359808   (?, 512, 32, 32)    (3, 3, 512, 512)\n",
            "32x32/Conv1_down     2359808   (?, 512, 16, 16)    (3, 3, 512, 512)\n",
            "32x32/Skip           262144    (?, 512, 16, 16)    (1, 1, 512, 512)\n",
            "16x16/Conv0          2359808   (?, 512, 16, 16)    (3, 3, 512, 512)\n",
            "16x16/Conv1_down     2359808   (?, 512, 8, 8)      (3, 3, 512, 512)\n",
            "16x16/Skip           262144    (?, 512, 8, 8)      (1, 1, 512, 512)\n",
            "8x8/Conv0            2359808   (?, 512, 8, 8)      (3, 3, 512, 512)\n",
            "8x8/Conv1_down       2359808   (?, 512, 4, 4)      (3, 3, 512, 512)\n",
            "8x8/Skip             262144    (?, 512, 4, 4)      (1, 1, 512, 512)\n",
            "4x4/MinibatchStddev  -         (?, 513, 4, 4)      -               \n",
            "4x4/Conv             2364416   (?, 512, 4, 4)      (3, 3, 513, 512)\n",
            "4x4/Dense0           4194816   (?, 512)            (8192, 512)     \n",
            "Output               513       (?, 1)              (512, 1)        \n",
            "---                  ---       ---                 ---             \n",
            "Total                28982849                                      \n",
            "\n",
            "Exporting sample images...\n",
            "Replicating networks across 1 GPUs...\n",
            "Initializing augmentations...\n",
            "Setting up optimizers...\n",
            "Constructing training graph...\n",
            "Finalizing training ops...\n",
            "Initializing metrics...\n",
            "Training for 25000 kimg...\n",
            "\n",
            "tick 0     kimg 0.0      time 3m 36s       sec/tick 70.4    sec/kimg 2201.17 maintenance 146.1  gpumem 10.0  augment 0.000\n",
            "2021-07-13 11:19:51.069903: W tensorflow/core/common_runtime/bfc_allocator.cc:239] Allocator (GPU_0_bfc) ran out of memory trying to allocate 2.25GiB with freed_by_count=0. The caller indicates that this is not a failure, but may mean that there could be performance gains if more memory were available.\n",
            "2021-07-13 11:19:51.074975: W tensorflow/core/common_runtime/bfc_allocator.cc:239] Allocator (GPU_0_bfc) ran out of memory trying to allocate 2.25GiB with freed_by_count=0. The caller indicates that this is not a failure, but may mean that there could be performance gains if more memory were available.\n",
            "2021-07-13 11:19:51.078675: W tensorflow/core/common_runtime/bfc_allocator.cc:239] Allocator (GPU_0_bfc) ran out of memory trying to allocate 2.25GiB with freed_by_count=0. The caller indicates that this is not a failure, but may mean that there could be performance gains if more memory were available.\n",
            "2021-07-13 11:29:41.691283: W tensorflow/core/common_runtime/bfc_allocator.cc:239] Allocator (GPU_0_bfc) ran out of memory trying to allocate 2.25GiB with freed_by_count=0. The caller indicates that this is not a failure, but may mean that there could be performance gains if more memory were available.\n",
            "2021-07-13 11:29:41.692796: W tensorflow/core/common_runtime/bfc_allocator.cc:239] Allocator (GPU_0_bfc) ran out of memory trying to allocate 2.25GiB with freed_by_count=0. The caller indicates that this is not a failure, but may mean that there could be performance gains if more memory were available.\n",
            "2021-07-13 11:29:41.696602: W tensorflow/core/common_runtime/bfc_allocator.cc:239] Allocator (GPU_0_bfc) ran out of memory trying to allocate 2.25GiB with freed_by_count=0. The caller indicates that this is not a failure, but may mean that there could be performance gains if more memory were available.\n",
            "2021-07-13 11:30:24.194958: W tensorflow/core/common_runtime/bfc_allocator.cc:239] Allocator (GPU_0_bfc) ran out of memory trying to allocate 2.25GiB with freed_by_count=0. The caller indicates that this is not a failure, but may mean that there could be performance gains if more memory were available.\n",
            "2021-07-13 11:30:24.196427: W tensorflow/core/common_runtime/bfc_allocator.cc:239] Allocator (GPU_0_bfc) ran out of memory trying to allocate 2.25GiB with freed_by_count=0. The caller indicates that this is not a failure, but may mean that there could be performance gains if more memory were available.\n",
            "2021-07-13 11:30:24.200388: W tensorflow/core/common_runtime/bfc_allocator.cc:239] Allocator (GPU_0_bfc) ran out of memory trying to allocate 2.25GiB with freed_by_count=0. The caller indicates that this is not a failure, but may mean that there could be performance gains if more memory were available.\n",
            "2021-07-13 11:35:05.460050: W tensorflow/core/common_runtime/bfc_allocator.cc:239] Allocator (GPU_0_bfc) ran out of memory trying to allocate 2.25GiB with freed_by_count=0. The caller indicates that this is not a failure, but may mean that there could be performance gains if more memory were available.\n",
            "tick 1     kimg 4.0      time 1h 13m 34s   sec/tick 4159.5  sec/kimg 1039.87 maintenance 38.5   gpumem 10.0  augment 0.005\n",
            "tick 2     kimg 8.0      time 2h 23m 01s   sec/tick 4167.0  sec/kimg 1041.74 maintenance 0.0    gpumem 10.0  augment 0.007\n",
            "tick 3     kimg 12.0     time 3h 32m 36s   sec/tick 4175.0  sec/kimg 1043.76 maintenance 0.0    gpumem 10.0  augment 0.010\n",
            "tick 4     kimg 16.0     time 4h 42m 21s   sec/tick 4184.2  sec/kimg 1046.04 maintenance 0.0    gpumem 10.0  augment 0.012\n",
            "tick 5     kimg 20.0     time 5h 52m 23s   sec/tick 4177.1  sec/kimg 1044.28 maintenance 25.6   gpumem 10.0  augment 0.016\n"
          ],
          "name": "stdout"
        }
      ]
    }
  ]
}